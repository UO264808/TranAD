{
 "cells": [
  {
   "cell_type": "code",
   "execution_count": 1,
   "metadata": {},
   "outputs": [
    {
     "name": "stderr",
     "output_type": "stream",
     "text": [
      "/home/lucas/python_envs/tranAD-env/lib/python3.10/site-packages/tqdm/auto.py:22: TqdmWarning: IProgress not found. Please update jupyter and ipywidgets. See https://ipywidgets.readthedocs.io/en/stable/user_install.html\n",
      "  from .autonotebook import tqdm as notebook_tqdm\n"
     ]
    }
   ],
   "source": [
    "import os\n",
    "import pandas as pd\n",
    "import numpy as np\n",
    "import torch"
   ]
  },
  {
   "cell_type": "code",
   "execution_count": 2,
   "metadata": {},
   "outputs": [],
   "source": [
    "src = os.getcwd() + \"/data/SMD/labels/machine-1-1.txt\"\n",
    "data = pd.read_csv(src, names=['anomaly'])\n",
    "labels = np.load(os.getcwd() + \"/labelsFinal.npy\")"
   ]
  },
  {
   "cell_type": "code",
   "execution_count": 3,
   "metadata": {},
   "outputs": [],
   "source": [
    "labels = pd.DataFrame(labels)\n",
    "labels.columns = ['anomaly']"
   ]
  },
  {
   "cell_type": "code",
   "execution_count": 5,
   "metadata": {},
   "outputs": [
    {
     "data": {
      "text/html": [
       "<div>\n",
       "<style scoped>\n",
       "    .dataframe tbody tr th:only-of-type {\n",
       "        vertical-align: middle;\n",
       "    }\n",
       "\n",
       "    .dataframe tbody tr th {\n",
       "        vertical-align: top;\n",
       "    }\n",
       "\n",
       "    .dataframe thead th {\n",
       "        text-align: right;\n",
       "    }\n",
       "</style>\n",
       "<table border=\"1\" class=\"dataframe\">\n",
       "  <thead>\n",
       "    <tr style=\"text-align: right;\">\n",
       "      <th></th>\n",
       "      <th>anomaly</th>\n",
       "    </tr>\n",
       "  </thead>\n",
       "  <tbody>\n",
       "    <tr>\n",
       "      <th>15848</th>\n",
       "      <td>1</td>\n",
       "    </tr>\n",
       "    <tr>\n",
       "      <th>15849</th>\n",
       "      <td>1</td>\n",
       "    </tr>\n",
       "    <tr>\n",
       "      <th>15850</th>\n",
       "      <td>1</td>\n",
       "    </tr>\n",
       "    <tr>\n",
       "      <th>15851</th>\n",
       "      <td>1</td>\n",
       "    </tr>\n",
       "    <tr>\n",
       "      <th>15852</th>\n",
       "      <td>1</td>\n",
       "    </tr>\n",
       "    <tr>\n",
       "      <th>...</th>\n",
       "      <td>...</td>\n",
       "    </tr>\n",
       "    <tr>\n",
       "      <th>24680</th>\n",
       "      <td>1</td>\n",
       "    </tr>\n",
       "    <tr>\n",
       "      <th>26113</th>\n",
       "      <td>1</td>\n",
       "    </tr>\n",
       "    <tr>\n",
       "      <th>26114</th>\n",
       "      <td>1</td>\n",
       "    </tr>\n",
       "    <tr>\n",
       "      <th>27553</th>\n",
       "      <td>1</td>\n",
       "    </tr>\n",
       "    <tr>\n",
       "      <th>27554</th>\n",
       "      <td>1</td>\n",
       "    </tr>\n",
       "  </tbody>\n",
       "</table>\n",
       "<p>2667 rows × 1 columns</p>\n",
       "</div>"
      ],
      "text/plain": [
       "       anomaly\n",
       "15848        1\n",
       "15849        1\n",
       "15850        1\n",
       "15851        1\n",
       "15852        1\n",
       "...        ...\n",
       "24680        1\n",
       "26113        1\n",
       "26114        1\n",
       "27553        1\n",
       "27554        1\n",
       "\n",
       "[2667 rows x 1 columns]"
      ]
     },
     "execution_count": 5,
     "metadata": {},
     "output_type": "execute_result"
    }
   ],
   "source": [
    "labels[labels['anomaly']>0]"
   ]
  },
  {
   "cell_type": "code",
   "execution_count": 4,
   "metadata": {},
   "outputs": [
    {
     "data": {
      "text/html": [
       "<div>\n",
       "<style scoped>\n",
       "    .dataframe tbody tr th:only-of-type {\n",
       "        vertical-align: middle;\n",
       "    }\n",
       "\n",
       "    .dataframe tbody tr th {\n",
       "        vertical-align: top;\n",
       "    }\n",
       "\n",
       "    .dataframe thead th {\n",
       "        text-align: right;\n",
       "    }\n",
       "</style>\n",
       "<table border=\"1\" class=\"dataframe\">\n",
       "  <thead>\n",
       "    <tr style=\"text-align: right;\">\n",
       "      <th></th>\n",
       "      <th>anomaly</th>\n",
       "    </tr>\n",
       "  </thead>\n",
       "  <tbody>\n",
       "    <tr>\n",
       "      <th>15849</th>\n",
       "      <td>1</td>\n",
       "    </tr>\n",
       "    <tr>\n",
       "      <th>15850</th>\n",
       "      <td>1</td>\n",
       "    </tr>\n",
       "    <tr>\n",
       "      <th>15851</th>\n",
       "      <td>1</td>\n",
       "    </tr>\n",
       "    <tr>\n",
       "      <th>15852</th>\n",
       "      <td>1</td>\n",
       "    </tr>\n",
       "    <tr>\n",
       "      <th>15853</th>\n",
       "      <td>1</td>\n",
       "    </tr>\n",
       "    <tr>\n",
       "      <th>...</th>\n",
       "      <td>...</td>\n",
       "    </tr>\n",
       "    <tr>\n",
       "      <th>24681</th>\n",
       "      <td>1</td>\n",
       "    </tr>\n",
       "    <tr>\n",
       "      <th>26114</th>\n",
       "      <td>1</td>\n",
       "    </tr>\n",
       "    <tr>\n",
       "      <th>26115</th>\n",
       "      <td>1</td>\n",
       "    </tr>\n",
       "    <tr>\n",
       "      <th>27554</th>\n",
       "      <td>1</td>\n",
       "    </tr>\n",
       "    <tr>\n",
       "      <th>27555</th>\n",
       "      <td>1</td>\n",
       "    </tr>\n",
       "  </tbody>\n",
       "</table>\n",
       "<p>2694 rows × 1 columns</p>\n",
       "</div>"
      ],
      "text/plain": [
       "       anomaly\n",
       "15849        1\n",
       "15850        1\n",
       "15851        1\n",
       "15852        1\n",
       "15853        1\n",
       "...        ...\n",
       "24681        1\n",
       "26114        1\n",
       "26115        1\n",
       "27554        1\n",
       "27555        1\n",
       "\n",
       "[2694 rows x 1 columns]"
      ]
     },
     "execution_count": 4,
     "metadata": {},
     "output_type": "execute_result"
    }
   ],
   "source": [
    "data[data['anomaly']>0]"
   ]
  },
  {
   "cell_type": "code",
   "execution_count": 3,
   "metadata": {},
   "outputs": [],
   "source": [
    "trainO = torch.load('trainO.pt')\n",
    "trainD = torch.load('trainD.pt')"
   ]
  },
  {
   "cell_type": "code",
   "execution_count": 48,
   "metadata": {},
   "outputs": [
    {
     "data": {
      "text/plain": [
       "tensor([6.4516e-02, 3.9195e-02, 4.1249e-02, 4.2973e-02, 0.0000e+00, 9.2308e-01,\n",
       "        2.8908e-01, 0.0000e+00, 9.6510e-03, 1.2200e-04, 1.8168e-01, 8.1081e-02,\n",
       "        2.7397e-02, 2.9420e-02, 5.2517e-02, 1.9572e-01, 0.0000e+00, 0.0000e+00,\n",
       "        8.8820e-02, 5.9739e-02, 6.2375e-02, 4.5691e-02, 6.4817e-01, 1.2660e-02,\n",
       "        1.6442e-02, 1.1499e-02, 0.0000e+00, 5.2228e-02, 0.0000e+00, 4.2980e-03,\n",
       "        4.2860e-02, 3.2939e-02, 0.0000e+00, 1.1000e-05, 4.9591e-02, 4.9587e-02,\n",
       "        0.0000e+00, 0.0000e+00], dtype=torch.float64)"
      ]
     },
     "execution_count": 48,
     "metadata": {},
     "output_type": "execute_result"
    }
   ],
   "source": [
    "trainD[100][38*36:38*37]\n"
   ]
  },
  {
   "cell_type": "code",
   "execution_count": 49,
   "metadata": {},
   "outputs": [
    {
     "data": {
      "text/plain": [
       "tensor([5.3763e-02, 4.4492e-02, 3.6789e-02, 4.0650e-02, 0.0000e+00, 9.1795e-01,\n",
       "        2.9002e-01, 0.0000e+00, 1.2773e-02, 1.2200e-04, 2.2484e-01, 1.0811e-01,\n",
       "        2.7397e-02, 3.2347e-02, 6.7975e-02, 2.3917e-01, 0.0000e+00, 0.0000e+00,\n",
       "        6.7604e-02, 5.7959e-02, 5.7151e-02, 4.3025e-02, 6.3518e-01, 1.1186e-02,\n",
       "        1.5393e-02, 1.0257e-02, 0.0000e+00, 4.8367e-02, 0.0000e+00, 4.2980e-03,\n",
       "        4.0604e-02, 3.2939e-02, 3.8600e-04, 3.4000e-05, 4.8795e-02, 4.8791e-02,\n",
       "        0.0000e+00, 0.0000e+00], dtype=torch.float64)"
      ]
     },
     "execution_count": 49,
     "metadata": {},
     "output_type": "execute_result"
    }
   ],
   "source": [
    "trainO[100]"
   ]
  },
  {
   "cell_type": "code",
   "execution_count": 3,
   "metadata": {},
   "outputs": [],
   "source": [
    "lm_d = {\n",
    "\t\t'SMD': [(0.99995, 1.04), (0.99995, 1.06)],\n",
    "\t\t'synthetic': [(0.999, 1), (0.999, 1)],\n",
    "\t\t'SWaT': [(0.993, 1), (0.993, 1)],\n",
    "\t\t'UCR': [(0.993, 1), (0.99935, 1)],\n",
    "\t\t'NAB': [(0.991, 1), (0.99, 1)],\n",
    "\t\t'SMAP': [(0.98, 1), (0.98, 1)],\n",
    "\t\t'MSL': [(0.97, 1), (0.999, 1.04)],\n",
    "\t\t'WADI': [(0.99, 1), (0.999, 1)],\n",
    "\t\t'MSDS': [(0.91, 1), (0.9, 1.04)],\n",
    "\t\t'MBA': [(0.87, 1), (0.93, 1.04)],\n",
    "\t}\n",
    "lm = lm_d['SMD'][0]"
   ]
  },
  {
   "cell_type": "code",
   "execution_count": 4,
   "metadata": {},
   "outputs": [
    {
     "data": {
      "text/plain": [
       "(0.99995, 1.04)"
      ]
     },
     "execution_count": 4,
     "metadata": {},
     "output_type": "execute_result"
    }
   ],
   "source": [
    "lm"
   ]
  }
 ],
 "metadata": {
  "kernelspec": {
   "display_name": "tranAD-env",
   "language": "python",
   "name": "python3"
  },
  "language_info": {
   "codemirror_mode": {
    "name": "ipython",
    "version": 3
   },
   "file_extension": ".py",
   "mimetype": "text/x-python",
   "name": "python",
   "nbconvert_exporter": "python",
   "pygments_lexer": "ipython3",
   "version": "3.10.6"
  },
  "orig_nbformat": 4,
  "vscode": {
   "interpreter": {
    "hash": "b5929b82d8c566c6195d0423f1b0dee4f296c0bf96f72a356f65e85b161a089b"
   }
  }
 },
 "nbformat": 4,
 "nbformat_minor": 2
}
