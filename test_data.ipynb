{
 "cells": [
  {
   "cell_type": "code",
   "execution_count": 1,
   "metadata": {},
   "outputs": [
    {
     "name": "stderr",
     "output_type": "stream",
     "text": [
      "/home/lucas/python_envs/tranAD-env/lib/python3.10/site-packages/tqdm/auto.py:22: TqdmWarning: IProgress not found. Please update jupyter and ipywidgets. See https://ipywidgets.readthedocs.io/en/stable/user_install.html\n",
      "  from .autonotebook import tqdm as notebook_tqdm\n"
     ]
    }
   ],
   "source": [
    "import os\n",
    "import pandas as pd\n",
    "import numpy as np\n",
    "import torch"
   ]
  },
  {
   "cell_type": "code",
   "execution_count": 12,
   "metadata": {},
   "outputs": [],
   "source": [
    "src = os.getcwd() + \"/data/SMAP_MSL/train/P-1.npy\"\n",
    "data = np.load(src)"
   ]
  },
  {
   "cell_type": "code",
   "execution_count": 13,
   "metadata": {},
   "outputs": [
    {
     "data": {
      "text/plain": [
       "(2872, 25)"
      ]
     },
     "execution_count": 13,
     "metadata": {},
     "output_type": "execute_result"
    }
   ],
   "source": [
    "data.shape"
   ]
  },
  {
   "cell_type": "code",
   "execution_count": 3,
   "metadata": {},
   "outputs": [],
   "source": [
    "trainO = torch.load('trainO.pt')\n",
    "trainD = torch.load('trainD.pt')"
   ]
  },
  {
   "cell_type": "code",
   "execution_count": 48,
   "metadata": {},
   "outputs": [
    {
     "data": {
      "text/plain": [
       "tensor([6.4516e-02, 3.9195e-02, 4.1249e-02, 4.2973e-02, 0.0000e+00, 9.2308e-01,\n",
       "        2.8908e-01, 0.0000e+00, 9.6510e-03, 1.2200e-04, 1.8168e-01, 8.1081e-02,\n",
       "        2.7397e-02, 2.9420e-02, 5.2517e-02, 1.9572e-01, 0.0000e+00, 0.0000e+00,\n",
       "        8.8820e-02, 5.9739e-02, 6.2375e-02, 4.5691e-02, 6.4817e-01, 1.2660e-02,\n",
       "        1.6442e-02, 1.1499e-02, 0.0000e+00, 5.2228e-02, 0.0000e+00, 4.2980e-03,\n",
       "        4.2860e-02, 3.2939e-02, 0.0000e+00, 1.1000e-05, 4.9591e-02, 4.9587e-02,\n",
       "        0.0000e+00, 0.0000e+00], dtype=torch.float64)"
      ]
     },
     "execution_count": 48,
     "metadata": {},
     "output_type": "execute_result"
    }
   ],
   "source": [
    "trainD[100][38*36:38*37]\n"
   ]
  },
  {
   "cell_type": "code",
   "execution_count": 49,
   "metadata": {},
   "outputs": [
    {
     "data": {
      "text/plain": [
       "tensor([5.3763e-02, 4.4492e-02, 3.6789e-02, 4.0650e-02, 0.0000e+00, 9.1795e-01,\n",
       "        2.9002e-01, 0.0000e+00, 1.2773e-02, 1.2200e-04, 2.2484e-01, 1.0811e-01,\n",
       "        2.7397e-02, 3.2347e-02, 6.7975e-02, 2.3917e-01, 0.0000e+00, 0.0000e+00,\n",
       "        6.7604e-02, 5.7959e-02, 5.7151e-02, 4.3025e-02, 6.3518e-01, 1.1186e-02,\n",
       "        1.5393e-02, 1.0257e-02, 0.0000e+00, 4.8367e-02, 0.0000e+00, 4.2980e-03,\n",
       "        4.0604e-02, 3.2939e-02, 3.8600e-04, 3.4000e-05, 4.8795e-02, 4.8791e-02,\n",
       "        0.0000e+00, 0.0000e+00], dtype=torch.float64)"
      ]
     },
     "execution_count": 49,
     "metadata": {},
     "output_type": "execute_result"
    }
   ],
   "source": [
    "trainO[100]"
   ]
  }
 ],
 "metadata": {
  "kernelspec": {
   "display_name": "tranAD-env",
   "language": "python",
   "name": "python3"
  },
  "language_info": {
   "codemirror_mode": {
    "name": "ipython",
    "version": 3
   },
   "file_extension": ".py",
   "mimetype": "text/x-python",
   "name": "python",
   "nbconvert_exporter": "python",
   "pygments_lexer": "ipython3",
   "version": "3.10.6"
  },
  "orig_nbformat": 4,
  "vscode": {
   "interpreter": {
    "hash": "b5929b82d8c566c6195d0423f1b0dee4f296c0bf96f72a356f65e85b161a089b"
   }
  }
 },
 "nbformat": 4,
 "nbformat_minor": 2
}
